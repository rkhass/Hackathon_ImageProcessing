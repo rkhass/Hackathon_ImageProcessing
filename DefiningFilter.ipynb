{
 "cells": [
  {
   "cell_type": "markdown",
   "metadata": {
    "deletable": true,
    "editable": true
   },
   "source": [
    "## Постановка"
   ]
  },
  {
   "cell_type": "markdown",
   "metadata": {
    "deletable": true,
    "editable": true
   },
   "source": [
    "Написать алгоритм классификации, принимающий на вход изображение, обработанное фильтром, и определяющий этот фильтр.\n",
    "\n",
    "Входные данные:\n",
    " - массив исходных изображений до обработки. Их размер различен\n",
    " - массив обработанных изображений путем применения фильтра\n",
    " \n",
    "Выходные данные:\n",
    " - название фильтра, примененное к конкретному изображению"
   ]
  },
  {
   "cell_type": "markdown",
   "metadata": {
    "deletable": true,
    "editable": true
   },
   "source": [
    "## Подготовка"
   ]
  },
  {
   "cell_type": "code",
   "execution_count": 24,
   "metadata": {
    "collapsed": true,
    "deletable": true,
    "editable": true
   },
   "outputs": [],
   "source": [
    "import cv2\n",
    "import os\n",
    "import numpy as np\n",
    "from PIL import Image\n",
    "import matplotlib.pylab as plt\n",
    "import pandas as pd\n",
    "import xgboost as xgb\n",
    "from sklearn import metrics\n",
    "from sklearn.model_selection import StratifiedKFold\n",
    "from skimage import data, io, filters\n",
    "import seaborn as sns\n",
    "import cv2\n",
    "from skimage.color import rgb2grey\n",
    "from skimage import data, io, filters\n",
    "%matplotlib inline"
   ]
  },
  {
   "cell_type": "markdown",
   "metadata": {
    "deletable": true,
    "editable": true
   },
   "source": [
    "## Собираем названия фотографий (не забудь выровнить число картинок по папкам!)"
   ]
  },
  {
   "cell_type": "code",
   "execution_count": 5,
   "metadata": {
    "collapsed": false,
    "deletable": true,
    "editable": true
   },
   "outputs": [],
   "source": [
    "directory = '../Task1'\n",
    "files = os.listdir(directory)\n",
    "names = os.listdir(directory + '/Kelvin') # предполагаем, что во всех папках одинаковый список фотографий"
   ]
  },
  {
   "cell_type": "markdown",
   "metadata": {
    "deletable": true,
    "editable": true
   },
   "source": [
    "## Собираем статистику по фотографиям"
   ]
  },
  {
   "cell_type": "markdown",
   "metadata": {
    "deletable": true,
    "editable": true
   },
   "source": [
    "### 1. Гистограммы по каждому каналу фотографии"
   ]
  },
  {
   "cell_type": "markdown",
   "metadata": {
    "deletable": true,
    "editable": true
   },
   "source": [
    "Потребовалось 8 минут, 50МБ данных"
   ]
  },
  {
   "cell_type": "code",
   "execution_count": 6,
   "metadata": {
    "collapsed": false,
    "deletable": true,
    "editable": true
   },
   "outputs": [
    {
     "name": "stdout",
     "output_type": "stream",
     "text": [
      "CPU times: user 6min 13s, sys: 4.37 s, total: 6min 18s\n",
      "Wall time: 8min\n"
     ]
    }
   ],
   "source": [
    "%%time\n",
    "for j in range(len(names)):\n",
    "    for i in range(len(files)):\n",
    "        image = cv2.imread(directory + '/' + files[i] + '/' + names[j], 1)\n",
    "        hst1 = np.histogram(np.array(image[:,:,0]).ravel(), bins=100, normed=True)[0]\n",
    "        hst2 = np.histogram(np.array(image[:,:,1]).ravel(), bins=100, normed=True)[0]\n",
    "        hst3 = np.histogram(np.array(image[:,:,2]).ravel(), bins=100, normed=True)[0]\n",
    "        \n",
    "        s = ' '\n",
    "        hst = np.concatenate([hst1,hst2, hst3])\n",
    "        for h in hst:\n",
    "            s = s + str(h) + ' '\n",
    "        open(\"data_hst.txt\", 'a').write(s + names[j].partition('.')[0] + ' ' + files[i] + '\\n')\n",
    "    open(\"data_hst.txt\", 'a').write('\\n')\n",
    "    "
   ]
  },
  {
   "cell_type": "markdown",
   "metadata": {
    "deletable": true,
    "editable": true
   },
   "source": [
    "### 2. Гистограмма по преобразованной фотографии (применяем фильтр Собель)"
   ]
  },
  {
   "cell_type": "markdown",
   "metadata": {
    "deletable": true,
    "editable": true
   },
   "source": [
    "Фильтр собель - неплохая попытка, которая прибавила несколько процентов к качеству классификации.\n",
    "\n",
    "Потребовалось 8.5 минут, 30МБ данных"
   ]
  },
  {
   "cell_type": "code",
   "execution_count": 9,
   "metadata": {
    "collapsed": false,
    "deletable": true,
    "editable": true
   },
   "outputs": [
    {
     "name": "stdout",
     "output_type": "stream",
     "text": [
      "CPU times: user 6min 33s, sys: 12.7 s, total: 6min 46s\n",
      "Wall time: 8min 31s\n"
     ]
    }
   ],
   "source": [
    "%%time\n",
    "for j in range(len(names)):\n",
    "    for i in range(len(files)):\n",
    "        image = cv2.imread(directory + '/' + files[i] + '/' + names[j], 0)\n",
    "        a = filters.sobel(rgb2grey(image))\n",
    "        hst = np.histogram(np.array(a).ravel(), bins=200, normed=True)[0]\n",
    "        \n",
    "        s = ' '\n",
    "        for h in hst:\n",
    "            s = s + str(h) + ' '\n",
    "        open(\"data_sobel.txt\", 'a').write(s + names[j].partition('.')[0] + ' ' + files[i] +  '\\n')\n",
    "    open(\"data_sobel.txt\", 'a').write('\\n')"
   ]
  },
  {
   "cell_type": "markdown",
   "metadata": {
    "deletable": true,
    "editable": true
   },
   "source": [
    "## Загрузка датасетов"
   ]
  },
  {
   "cell_type": "code",
   "execution_count": 15,
   "metadata": {
    "collapsed": false,
    "deletable": true,
    "editable": true
   },
   "outputs": [],
   "source": [
    "df_h = pd.read_csv(\"data_hst.txt\", sep=' ', header=None)\n",
    "df_h = df_h.drop([0, df_h.shape[1] - 1, df_h.shape[1]-2], axis=1)\n",
    "df_h['target'] = pd.Series(i % 11 for i in range(df_h.shape[0]))\n",
    "\n",
    "df_s = pd.read_csv(\"data_sobel.txt\", sep=' ', header=None)\n",
    "df_s = df_s.drop([0, df_s.shape[1]-1, df_s.shape[1]-2], axis=1)\n",
    "df_s.columns = range(301,501)\n",
    "\n",
    "df = pd.concat([df_h, df_s], axis =1)"
   ]
  },
  {
   "cell_type": "markdown",
   "metadata": {
    "deletable": true,
    "editable": true
   },
   "source": [
    "#### Мотивация"
   ]
  },
  {
   "cell_type": "markdown",
   "metadata": {
    "deletable": true,
    "editable": true
   },
   "source": [
    "Гистограммы одних и тех же фотографий имеют сильно различающиеся пики!"
   ]
  },
  {
   "cell_type": "code",
   "execution_count": 32,
   "metadata": {
    "collapsed": false,
    "deletable": true,
    "editable": true
   },
   "outputs": [
    {
     "data": {
      "image/png": "[encoded data removed]",
      "text/plain": [
       "<matplotlib.figure.Figure at 0x7f4035f157b8>"
      ]
     },
     "metadata": {},
     "output_type": "display_data"
    }
   ],
   "source": [
    "plt.plot(list(df.iloc[0,:100]))\n",
    "plt.plot(list(df.iloc[1,:100]))\n",
    "plt.plot(list(df.iloc[2,:100]))\n",
    "plt.plot(list(df.iloc[3,:100]))\n",
    "plt.plot(list(df.iloc[4,:100]))\n",
    "plt.show()"
   ]
  },
  {
   "cell_type": "code",
   "execution_count": 29,
   "metadata": {
    "collapsed": false,
    "deletable": true,
    "editable": true
   },
   "outputs": [
    {
     "data": {
      "image/png": "[encoded data removed]",
      "text/plain": [
       "<matplotlib.figure.Figure at 0x7f4040d930f0>"
      ]
     },
     "metadata": {},
     "output_type": "display_data"
    }
   ],
   "source": [
    "corr_matrix = df_h.iloc[:,:100].corr()\n",
    "sns.heatmap(corr_matrix);"
   ]
  },
  {
   "cell_type": "markdown",
   "metadata": {
    "deletable": true,
    "editable": true
   },
   "source": [
    "## Кроссвалидация"
   ]
  },
  {
   "cell_type": "code",
   "execution_count": 22,
   "metadata": {
    "collapsed": true,
    "deletable": true,
    "editable": true
   },
   "outputs": [],
   "source": [
    "test_y = df['target'][:867]\n",
    "test_X = df.drop(['target'], axis = 1)[:867]\n",
    "train_y = df['target'][867:]\n",
    "train_X = df.drop(['target'], axis = 1)[867:]"
   ]
  },
  {
   "cell_type": "markdown",
   "metadata": {
    "deletable": true,
    "editable": true
   },
   "source": [
    "или"
   ]
  },
  {
   "cell_type": "code",
   "execution_count": null,
   "metadata": {
    "collapsed": true,
    "deletable": true,
    "editable": true
   },
   "outputs": [],
   "source": [
    "skf = StratifiedKFold(n_splits=5)\n",
    "for train_index, test_index in skf.split(df.iloc[:,:-1], df['target']):\n",
    "    X_train, X_test = df.iloc[train_index,:-1], df.iloc[test_index,:-1]\n",
    "    y_train, y_test = df['target'][train_index], df['target'][test_index]\n",
    "    %time gbm = xgb.XGBClassifier(max_depth=3, n_estimators=300, learning_rate=0.01).fit(X_train, y_train)\n",
    "    predictions = gbm.predict(X_test)\n",
    "    print('acc:', metrics.accuracy_score(y_test, predictions))\n",
    "    "
   ]
  },
  {
   "cell_type": "markdown",
   "metadata": {
    "deletable": true,
    "editable": true
   },
   "source": [
    "## Обучение"
   ]
  },
  {
   "cell_type": "code",
   "execution_count": 25,
   "metadata": {
    "collapsed": false,
    "deletable": true,
    "editable": true
   },
   "outputs": [
    {
     "name": "stdout",
     "output_type": "stream",
     "text": [
      "CPU times: user 48min 46s, sys: 2.94 s, total: 48min 49s\n",
      "Wall time: 13min 23s\n"
     ]
    },
    {
     "data": {
      "text/plain": [
       "0.87658592848904271"
      ]
     },
     "execution_count": 25,
     "metadata": {},
     "output_type": "execute_result"
    }
   ],
   "source": [
    "%time gbm = xgb.XGBClassifier(max_depth=3, n_estimators=300, learning_rate=0.01).fit(train_X, train_y)\n",
    "predictions = gbm.predict(test_X)\n",
    "metrics.accuracy_score(test_y, predictions)"
   ]
  },
  {
   "cell_type": "markdown",
   "metadata": {
    "deletable": true,
    "editable": true
   },
   "source": [
    "Здесь получено примерно 0.88 accuracy без оптимизации параметров.\n",
    "\n",
    "Однако на приватных данных после обучения на всех имеющихся данных было получено accuracy = 0.934. Предполагаю, что можно еще улучшить результат, если увеличить размер bins в гистограмме"
   ]
  },
  {
   "cell_type": "markdown",
   "metadata": {
    "deletable": true,
    "editable": true
   },
   "source": [
    "## Преобразование к требуемому формату"
   ]
  },
  {
   "cell_type": "markdown",
   "metadata": {
    "deletable": true,
    "editable": true
   },
   "source": [
    "Чтобы получить предсказания на финальных данных, нужно собрать информацию из гистограмм (аналогично, как сделано выше) и сохранить в df_test"
   ]
  },
  {
   "cell_type": "code",
   "execution_count": null,
   "metadata": {
    "collapsed": true,
    "deletable": true,
    "editable": true
   },
   "outputs": [],
   "source": [
    "filters = {0: 'Gingham', 1: 'Toaster', 2: 'Lo-Fi', 3: 'Kelvin', 4: 'Helena', 5: 'Maven', 6: 'Juno', 7: 'Ginza',\\\n",
    "     8: 'Ludwig', 9: 'Moon', 10: 'Slumber'}\n",
    "\n",
    "predictions = gbm.predictions(df_test)\n",
    "answers = []\n",
    "for i in predictions:\n",
    "    answers.append(filters[i])\n",
    "    \n",
    "a = pd.DataFrame(index=range(500), data = names)\n",
    "b = pd.DataFrame(index=range(500), data = answers)\n",
    "\n",
    "df_answers = pd.concat([a,b], axis=1)\n",
    "df_answers.columns = ['img', 'filter']\n",
    "\n",
    "df_answers.to_csv(\"answers.csv\", index=None)"
   ]
  }
 ],
 "metadata": {
  "kernelspec": {
   "display_name": "Python 3",
   "language": "python",
   "name": "python3"
  },
  "language_info": {
   "codemirror_mode": {
    "name": "ipython",
    "version": 3
   },
   "file_extension": ".py",
   "mimetype": "text/x-python",
   "name": "python",
   "nbconvert_exporter": "python",
   "pygments_lexer": "ipython3",
   "version": "3.5.2"
  }
 },
 "nbformat": 4,
 "nbformat_minor": 2
}
